{
 "cells": [
  {
   "cell_type": "code",
   "execution_count": 3,
   "id": "ea70dc84-0ec0-4096-a9d1-7e3d94113eac",
   "metadata": {},
   "outputs": [],
   "source": [
    "from PIL import Image\n",
    "\n",
    "# Load the image\n",
    "image_path = 'wordy_board.png'  # Path to the uploaded image\n",
    "image = Image.open(image_path)\n",
    "\n",
    "# Crop each gray square (adjust coordinates if necessary)\n",
    "# For this example, I will assume that each square is separated by a known width of white space\n",
    "width, height = image.size\n",
    "square_width = (width - 4) // 5  # Adjust based on observed dimensions of each square\n",
    "\n",
    "# Crop each square\n",
    "squares = []\n",
    "for i in range(5):\n",
    "    x = i * (square_width + 1)  # Skip 1 pixel white line\n",
    "    square = image.crop((x, 0, x + square_width, height))\n",
    "    squares.append(square)\n",
    "\n",
    "# Create a new image without the white lines\n",
    "combined_image = Image.new(\"RGB\", (square_width * 5, height))\n",
    "for i, square in enumerate(squares):\n",
    "    combined_image.paste(square, (i * square_width, 0))\n",
    "\n",
    "# Show the result\n",
    "combined_image.show()\n",
    "\n",
    "# Optionally save the output\n",
    "combined_image.save(\"wordy_board_no_whitespace.png\")"
   ]
  },
  {
   "cell_type": "code",
   "execution_count": null,
   "id": "5b102c82-ac8d-471d-bc03-b15e957472a9",
   "metadata": {},
   "outputs": [],
   "source": []
  }
 ],
 "metadata": {
  "kernelspec": {
   "display_name": "Python 3 (ipykernel)",
   "language": "python",
   "name": "python3"
  },
  "language_info": {
   "codemirror_mode": {
    "name": "ipython",
    "version": 3
   },
   "file_extension": ".py",
   "mimetype": "text/x-python",
   "name": "python",
   "nbconvert_exporter": "python",
   "pygments_lexer": "ipython3",
   "version": "3.12.3"
  }
 },
 "nbformat": 4,
 "nbformat_minor": 5
}
